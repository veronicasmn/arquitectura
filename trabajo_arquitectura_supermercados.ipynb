{
 "cells": [
  {
   "cell_type": "markdown",
   "metadata": {},
   "source": [
    "# Trabajo de caso real Arquitectura Big Data"
   ]
  },
  {
   "cell_type": "markdown",
   "metadata": {},
   "source": [
    "Se trata de un conjunto de supermercados que tienen varios años de datos acumulados de productos de limpieza del hogar.\n",
    "Realizan promociones de forma permanente y quieren poder predecir el volumen de ventas según las promociones que realizan.\n"
   ]
  },
  {
   "cell_type": "markdown",
   "metadata": {},
   "source": [
    "### Importamos las librerías necesarias"
   ]
  },
  {
   "cell_type": "code",
   "execution_count": 1,
   "metadata": {},
   "outputs": [],
   "source": [
    "import pandas as pd\n",
    "import numpy as np\n",
    "import matplotlib.pyplot as plt\n",
    "import seaborn as sns\n",
    "\n",
    "# Configuración para visualizaciones\n",
    "%matplotlib inline\n",
    "sns.set(style=\"whitegrid\")"
   ]
  },
  {
   "cell_type": "markdown",
   "metadata": {},
   "source": [
    "### Cargamos los datos"
   ]
  },
  {
   "cell_type": "code",
   "execution_count": 2,
   "metadata": {},
   "outputs": [],
   "source": [
    "locales = pd.read_csv('VMI_Locales-20190712.txt', sep='\\t', encoding='ISO-8859-1', header=None)\n",
    "movimientos = pd.read_csv('VMI_Movimientos-20190716.txt', sep='\\t', encoding='ISO-8859-1', header=None)\n",
    "promociones = pd.read_csv('VMI_Promociones-20190715.txt', sep='\\t', encoding='ISO-8859-1', header=None)\n",
    "prov_productos = pd.read_csv('VMI_ProvProdu-20190712.txt', sep='\\t', encoding='ISO-8859-1', header=None)"
   ]
  },
  {
   "cell_type": "code",
   "execution_count": 3,
   "metadata": {},
   "outputs": [],
   "source": [
    "locales.columns = ['ID Cadena', 'DescCadena', 'ID Region', 'DescRegion', 'ID Local/CD', 'DescLocal', 'Latitud', 'Longitud', 'PD']\n",
    "movimientos.columns = ['ID Local/CD', 'ID producto', 'Stock en unidades', 'Venta dia anterior en unidades', 'Precio de venta unitario', 'Fecha de la transaccion', 'CD que abastece', 'RolLocal']\n",
    "promociones.columns = ['ID Local/CD', 'ID producto', 'Fecha-desde', 'Fecha-Hasta', 'Total ventas en Unidades', 'Nro. Promocion', 'Fecha de la transaccion', 'Porc_Descuento']\n",
    "prov_productos.columns = [\n",
    "    'ID Proveedor', \n",
    "    'Razon Social Proveedor', \n",
    "    'ID Sector', \n",
    "    'Descripcion Sector', \n",
    "    'ID Seccion', \n",
    "    'Descripcion Seccion', \n",
    "    'ID Gran Familia', \n",
    "    'Descripcion Gran Familia', \n",
    "    'ID Familia', \n",
    "    'Descripcion Familia', \n",
    "    'ID Subfamilia', \n",
    "    'Descripcion Sub Familia', \n",
    "    'ID Articulo',  \n",
    "    'Descripcion Articulo', \n",
    "    'ID Producto', \n",
    "    'Descripcion Producto', \n",
    "    'ID Región',\n",
    "    'Columna Faltante'  # Añadimos el nombre para la columna adicional que faltaba y que no está en los doc.\n",
    "]\n"
   ]
  },
  {
   "cell_type": "markdown",
   "metadata": {},
   "source": [
    "## EDA Dataset Locales"
   ]
  },
  {
   "cell_type": "code",
   "execution_count": 4,
   "metadata": {},
   "outputs": [
    {
     "data": {
      "text/html": [
       "<div>\n",
       "<style scoped>\n",
       "    .dataframe tbody tr th:only-of-type {\n",
       "        vertical-align: middle;\n",
       "    }\n",
       "\n",
       "    .dataframe tbody tr th {\n",
       "        vertical-align: top;\n",
       "    }\n",
       "\n",
       "    .dataframe thead th {\n",
       "        text-align: right;\n",
       "    }\n",
       "</style>\n",
       "<table border=\"1\" class=\"dataframe\">\n",
       "  <thead>\n",
       "    <tr style=\"text-align: right;\">\n",
       "      <th></th>\n",
       "      <th>ID Cadena</th>\n",
       "      <th>DescCadena</th>\n",
       "      <th>ID Region</th>\n",
       "      <th>DescRegion</th>\n",
       "      <th>ID Local/CD</th>\n",
       "      <th>DescLocal</th>\n",
       "      <th>Latitud</th>\n",
       "      <th>Longitud</th>\n",
       "      <th>PD</th>\n",
       "    </tr>\n",
       "  </thead>\n",
       "  <tbody>\n",
       "    <tr>\n",
       "      <th>0</th>\n",
       "      <td>1</td>\n",
       "      <td>Plaza Vea</td>\n",
       "      <td>1</td>\n",
       "      <td>Buenos Aires</td>\n",
       "      <td>9693</td>\n",
       "      <td>9693 - P Vea Villa Urquiza.</td>\n",
       "      <td>NaN</td>\n",
       "      <td>NaN</td>\n",
       "      <td>N</td>\n",
       "    </tr>\n",
       "    <tr>\n",
       "      <th>1</th>\n",
       "      <td>1</td>\n",
       "      <td>Plaza Vea</td>\n",
       "      <td>1</td>\n",
       "      <td>Buenos Aires</td>\n",
       "      <td>9694</td>\n",
       "      <td>9694 - P Vea JB Justo.</td>\n",
       "      <td>NaN</td>\n",
       "      <td>NaN</td>\n",
       "      <td>N</td>\n",
       "    </tr>\n",
       "    <tr>\n",
       "      <th>2</th>\n",
       "      <td>1</td>\n",
       "      <td>Plaza Vea</td>\n",
       "      <td>1</td>\n",
       "      <td>Buenos Aires</td>\n",
       "      <td>9695</td>\n",
       "      <td>695 - P Vea Acoyte.</td>\n",
       "      <td>0.0</td>\n",
       "      <td>0.0</td>\n",
       "      <td>N</td>\n",
       "    </tr>\n",
       "    <tr>\n",
       "      <th>3</th>\n",
       "      <td>1</td>\n",
       "      <td>Plaza Vea</td>\n",
       "      <td>1</td>\n",
       "      <td>Buenos Aires</td>\n",
       "      <td>9699</td>\n",
       "      <td>699 - P Vea Rivadavia.</td>\n",
       "      <td>0.0</td>\n",
       "      <td>0.0</td>\n",
       "      <td>N</td>\n",
       "    </tr>\n",
       "    <tr>\n",
       "      <th>4</th>\n",
       "      <td>1</td>\n",
       "      <td>Plaza Vea</td>\n",
       "      <td>1</td>\n",
       "      <td>Buenos Aires</td>\n",
       "      <td>9889</td>\n",
       "      <td>889 - Plaza Vea Carpa de liqui</td>\n",
       "      <td>NaN</td>\n",
       "      <td>NaN</td>\n",
       "      <td>N</td>\n",
       "    </tr>\n",
       "  </tbody>\n",
       "</table>\n",
       "</div>"
      ],
      "text/plain": [
       "   ID Cadena                      DescCadena  ID Region  \\\n",
       "0          1  Plaza Vea                               1   \n",
       "1          1  Plaza Vea                               1   \n",
       "2          1  Plaza Vea                               1   \n",
       "3          1  Plaza Vea                               1   \n",
       "4          1  Plaza Vea                               1   \n",
       "\n",
       "                       DescRegion  ID Local/CD  \\\n",
       "0  Buenos Aires                           9693   \n",
       "1  Buenos Aires                           9694   \n",
       "2  Buenos Aires                           9695   \n",
       "3  Buenos Aires                           9699   \n",
       "4  Buenos Aires                           9889   \n",
       "\n",
       "                        DescLocal  Latitud  Longitud PD  \n",
       "0     9693 - P Vea Villa Urquiza.      NaN       NaN  N  \n",
       "1          9694 - P Vea JB Justo.      NaN       NaN  N  \n",
       "2             695 - P Vea Acoyte.      0.0       0.0  N  \n",
       "3          699 - P Vea Rivadavia.      0.0       0.0  N  \n",
       "4  889 - Plaza Vea Carpa de liqui      NaN       NaN  N  "
      ]
     },
     "execution_count": 4,
     "metadata": {},
     "output_type": "execute_result"
    }
   ],
   "source": [
    "locales.head()"
   ]
  },
  {
   "cell_type": "code",
   "execution_count": 5,
   "metadata": {},
   "outputs": [
    {
     "data": {
      "text/plain": [
       "(175, 9)"
      ]
     },
     "execution_count": 5,
     "metadata": {},
     "output_type": "execute_result"
    }
   ],
   "source": [
    "locales.shape"
   ]
  },
  {
   "cell_type": "code",
   "execution_count": 6,
   "metadata": {},
   "outputs": [
    {
     "name": "stdout",
     "output_type": "stream",
     "text": [
      "<class 'pandas.core.frame.DataFrame'>\n",
      "RangeIndex: 175 entries, 0 to 174\n",
      "Data columns (total 9 columns):\n",
      " #   Column       Non-Null Count  Dtype  \n",
      "---  ------       --------------  -----  \n",
      " 0   ID Cadena    175 non-null    int64  \n",
      " 1   DescCadena   175 non-null    object \n",
      " 2   ID Region    175 non-null    int64  \n",
      " 3   DescRegion   175 non-null    object \n",
      " 4   ID Local/CD  175 non-null    int64  \n",
      " 5   DescLocal    175 non-null    object \n",
      " 6   Latitud      140 non-null    float64\n",
      " 7   Longitud     140 non-null    float64\n",
      " 8   PD           175 non-null    object \n",
      "dtypes: float64(2), int64(3), object(4)\n",
      "memory usage: 12.4+ KB\n"
     ]
    }
   ],
   "source": [
    "locales.info()"
   ]
  },
  {
   "cell_type": "code",
   "execution_count": 7,
   "metadata": {},
   "outputs": [
    {
     "data": {
      "text/plain": [
       "ID Cadena       0\n",
       "DescCadena      0\n",
       "ID Region       0\n",
       "DescRegion      0\n",
       "ID Local/CD     0\n",
       "DescLocal       0\n",
       "Latitud        35\n",
       "Longitud       35\n",
       "PD              0\n",
       "dtype: int64"
      ]
     },
     "execution_count": 7,
     "metadata": {},
     "output_type": "execute_result"
    }
   ],
   "source": [
    "locales.isnull().sum()"
   ]
  },
  {
   "cell_type": "markdown",
   "metadata": {},
   "source": [
    "Anteriormente hemos observado que en la columna de Latitud y Longitud existian valores con 0.0, vamos a ver cuantos tenemos."
   ]
  },
  {
   "cell_type": "code",
   "execution_count": 8,
   "metadata": {},
   "outputs": [
    {
     "data": {
      "text/plain": [
       "ID Cadena       0\n",
       "DescCadena      0\n",
       "ID Region       0\n",
       "DescRegion      0\n",
       "ID Local/CD     0\n",
       "DescLocal       0\n",
       "Latitud        14\n",
       "Longitud       14\n",
       "PD              0\n",
       "dtype: int64"
      ]
     },
     "execution_count": 8,
     "metadata": {},
     "output_type": "execute_result"
    }
   ],
   "source": [
    "locales.eq(0.0).sum()"
   ]
  },
  {
   "cell_type": "markdown",
   "metadata": {},
   "source": [
    "Observamos que hay 14 locales con la latitud y longitud en 0.0. más 35 locales con la latitud y longitud con valor NaN. De 175 locales. "
   ]
  },
  {
   "cell_type": "markdown",
   "metadata": {},
   "source": [
    "A continuación vamos a ver si existen datos duplicados."
   ]
  },
  {
   "cell_type": "code",
   "execution_count": 9,
   "metadata": {},
   "outputs": [
    {
     "name": "stdout",
     "output_type": "stream",
     "text": [
      "Número de duplicados basados en ID Local/CD: 0\n"
     ]
    }
   ],
   "source": [
    "# Contar duplicados basados en 'ID Local/CD'\n",
    "duplicados = locales.duplicated(subset='ID Local/CD', keep=False).sum()\n",
    "print(f'Número de duplicados basados en ID Local/CD: {duplicados}')\n"
   ]
  },
  {
   "cell_type": "markdown",
   "metadata": {},
   "source": [
    "En la columna PD he detectado que tiene valor 'N' y 'S' teniendo en cuenta la documentación, los valores nos están indicando con una N que NO es un Punto de distribución y con una S que SI es un Punto de distribución.."
   ]
  },
  {
   "cell_type": "code",
   "execution_count": 10,
   "metadata": {},
   "outputs": [
    {
     "data": {
      "text/plain": [
       "array(['N', 'S'], dtype=object)"
      ]
     },
     "execution_count": 10,
     "metadata": {},
     "output_type": "execute_result"
    }
   ],
   "source": [
    "locales['PD'].unique()"
   ]
  },
  {
   "cell_type": "code",
   "execution_count": 11,
   "metadata": {},
   "outputs": [
    {
     "data": {
      "text/plain": [
       "PD\n",
       "N    169\n",
       "S      6\n",
       "Name: count, dtype: int64"
      ]
     },
     "execution_count": 11,
     "metadata": {},
     "output_type": "execute_result"
    }
   ],
   "source": [
    "locales['PD'].value_counts()"
   ]
  },
  {
   "cell_type": "markdown",
   "metadata": {},
   "source": [
    "Después de realizar un conteo, observamos que hay 6 locales que SI son un punto de Distribución y el resto no lo son."
   ]
  },
  {
   "cell_type": "code",
   "execution_count": 12,
   "metadata": {},
   "outputs": [
    {
     "data": {
      "text/html": [
       "<div>\n",
       "<style scoped>\n",
       "    .dataframe tbody tr th:only-of-type {\n",
       "        vertical-align: middle;\n",
       "    }\n",
       "\n",
       "    .dataframe tbody tr th {\n",
       "        vertical-align: top;\n",
       "    }\n",
       "\n",
       "    .dataframe thead th {\n",
       "        text-align: right;\n",
       "    }\n",
       "</style>\n",
       "<table border=\"1\" class=\"dataframe\">\n",
       "  <thead>\n",
       "    <tr style=\"text-align: right;\">\n",
       "      <th></th>\n",
       "      <th>ID Local/CD</th>\n",
       "      <th>ID producto</th>\n",
       "      <th>Stock en unidades</th>\n",
       "      <th>Venta dia anterior en unidades</th>\n",
       "      <th>Precio de venta unitario</th>\n",
       "      <th>Fecha de la transaccion</th>\n",
       "      <th>CD que abastece</th>\n",
       "      <th>RolLocal</th>\n",
       "    </tr>\n",
       "  </thead>\n",
       "  <tbody>\n",
       "    <tr>\n",
       "      <th>0</th>\n",
       "      <td>242</td>\n",
       "      <td>228217</td>\n",
       "      <td>20160715</td>\n",
       "      <td>24.0</td>\n",
       "      <td>0.0</td>\n",
       "      <td>13.63</td>\n",
       "      <td>0</td>\n",
       "      <td>SI</td>\n",
       "    </tr>\n",
       "    <tr>\n",
       "      <th>1</th>\n",
       "      <td>242</td>\n",
       "      <td>228217</td>\n",
       "      <td>20160716</td>\n",
       "      <td>24.0</td>\n",
       "      <td>0.0</td>\n",
       "      <td>13.63</td>\n",
       "      <td>0</td>\n",
       "      <td>SI</td>\n",
       "    </tr>\n",
       "    <tr>\n",
       "      <th>2</th>\n",
       "      <td>242</td>\n",
       "      <td>228217</td>\n",
       "      <td>20160717</td>\n",
       "      <td>24.0</td>\n",
       "      <td>0.0</td>\n",
       "      <td>13.63</td>\n",
       "      <td>0</td>\n",
       "      <td>SI</td>\n",
       "    </tr>\n",
       "    <tr>\n",
       "      <th>3</th>\n",
       "      <td>242</td>\n",
       "      <td>228217</td>\n",
       "      <td>20160718</td>\n",
       "      <td>24.0</td>\n",
       "      <td>0.0</td>\n",
       "      <td>13.63</td>\n",
       "      <td>0</td>\n",
       "      <td>SI</td>\n",
       "    </tr>\n",
       "    <tr>\n",
       "      <th>4</th>\n",
       "      <td>242</td>\n",
       "      <td>228217</td>\n",
       "      <td>20160719</td>\n",
       "      <td>24.0</td>\n",
       "      <td>0.0</td>\n",
       "      <td>13.63</td>\n",
       "      <td>0</td>\n",
       "      <td>SI</td>\n",
       "    </tr>\n",
       "  </tbody>\n",
       "</table>\n",
       "</div>"
      ],
      "text/plain": [
       "   ID Local/CD  ID producto  Stock en unidades  \\\n",
       "0          242       228217           20160715   \n",
       "1          242       228217           20160716   \n",
       "2          242       228217           20160717   \n",
       "3          242       228217           20160718   \n",
       "4          242       228217           20160719   \n",
       "\n",
       "   Venta dia anterior en unidades  Precio de venta unitario  \\\n",
       "0                            24.0                       0.0   \n",
       "1                            24.0                       0.0   \n",
       "2                            24.0                       0.0   \n",
       "3                            24.0                       0.0   \n",
       "4                            24.0                       0.0   \n",
       "\n",
       "   Fecha de la transaccion  CD que abastece RolLocal  \n",
       "0                    13.63                0       SI  \n",
       "1                    13.63                0       SI  \n",
       "2                    13.63                0       SI  \n",
       "3                    13.63                0       SI  \n",
       "4                    13.63                0       SI  "
      ]
     },
     "execution_count": 12,
     "metadata": {},
     "output_type": "execute_result"
    }
   ],
   "source": [
    "movimientos.head()"
   ]
  },
  {
   "cell_type": "code",
   "execution_count": 13,
   "metadata": {},
   "outputs": [
    {
     "data": {
      "text/html": [
       "<div>\n",
       "<style scoped>\n",
       "    .dataframe tbody tr th:only-of-type {\n",
       "        vertical-align: middle;\n",
       "    }\n",
       "\n",
       "    .dataframe tbody tr th {\n",
       "        vertical-align: top;\n",
       "    }\n",
       "\n",
       "    .dataframe thead th {\n",
       "        text-align: right;\n",
       "    }\n",
       "</style>\n",
       "<table border=\"1\" class=\"dataframe\">\n",
       "  <thead>\n",
       "    <tr style=\"text-align: right;\">\n",
       "      <th></th>\n",
       "      <th>ID Local/CD</th>\n",
       "      <th>ID producto</th>\n",
       "      <th>Fecha-desde</th>\n",
       "      <th>Fecha-Hasta</th>\n",
       "      <th>Total ventas en Unidades</th>\n",
       "      <th>Nro. Promocion</th>\n",
       "      <th>Fecha de la transaccion</th>\n",
       "      <th>Porc_Descuento</th>\n",
       "    </tr>\n",
       "  </thead>\n",
       "  <tbody>\n",
       "    <tr>\n",
       "      <th>0</th>\n",
       "      <td>242</td>\n",
       "      <td>228217</td>\n",
       "      <td>20161023</td>\n",
       "      <td>20161030</td>\n",
       "      <td>0.98</td>\n",
       "      <td>436830</td>\n",
       "      <td>20161005</td>\n",
       "      <td>7.0</td>\n",
       "    </tr>\n",
       "    <tr>\n",
       "      <th>1</th>\n",
       "      <td>242</td>\n",
       "      <td>228217</td>\n",
       "      <td>20161023</td>\n",
       "      <td>20161030</td>\n",
       "      <td>0.98</td>\n",
       "      <td>436830</td>\n",
       "      <td>20161006</td>\n",
       "      <td>7.0</td>\n",
       "    </tr>\n",
       "    <tr>\n",
       "      <th>2</th>\n",
       "      <td>242</td>\n",
       "      <td>228217</td>\n",
       "      <td>20161023</td>\n",
       "      <td>20161030</td>\n",
       "      <td>0.98</td>\n",
       "      <td>436830</td>\n",
       "      <td>20161007</td>\n",
       "      <td>7.0</td>\n",
       "    </tr>\n",
       "    <tr>\n",
       "      <th>3</th>\n",
       "      <td>242</td>\n",
       "      <td>228217</td>\n",
       "      <td>20161023</td>\n",
       "      <td>20161030</td>\n",
       "      <td>0.98</td>\n",
       "      <td>436830</td>\n",
       "      <td>20161008</td>\n",
       "      <td>7.0</td>\n",
       "    </tr>\n",
       "    <tr>\n",
       "      <th>4</th>\n",
       "      <td>242</td>\n",
       "      <td>228217</td>\n",
       "      <td>20161023</td>\n",
       "      <td>20161030</td>\n",
       "      <td>0.98</td>\n",
       "      <td>436830</td>\n",
       "      <td>20161009</td>\n",
       "      <td>7.0</td>\n",
       "    </tr>\n",
       "  </tbody>\n",
       "</table>\n",
       "</div>"
      ],
      "text/plain": [
       "   ID Local/CD  ID producto  Fecha-desde  Fecha-Hasta  \\\n",
       "0          242       228217     20161023     20161030   \n",
       "1          242       228217     20161023     20161030   \n",
       "2          242       228217     20161023     20161030   \n",
       "3          242       228217     20161023     20161030   \n",
       "4          242       228217     20161023     20161030   \n",
       "\n",
       "   Total ventas en Unidades  Nro. Promocion  Fecha de la transaccion  \\\n",
       "0                      0.98          436830                 20161005   \n",
       "1                      0.98          436830                 20161006   \n",
       "2                      0.98          436830                 20161007   \n",
       "3                      0.98          436830                 20161008   \n",
       "4                      0.98          436830                 20161009   \n",
       "\n",
       "   Porc_Descuento  \n",
       "0             7.0  \n",
       "1             7.0  \n",
       "2             7.0  \n",
       "3             7.0  \n",
       "4             7.0  "
      ]
     },
     "execution_count": 13,
     "metadata": {},
     "output_type": "execute_result"
    }
   ],
   "source": [
    "promociones.head()"
   ]
  },
  {
   "cell_type": "code",
   "execution_count": 14,
   "metadata": {},
   "outputs": [
    {
     "data": {
      "text/html": [
       "<div>\n",
       "<style scoped>\n",
       "    .dataframe tbody tr th:only-of-type {\n",
       "        vertical-align: middle;\n",
       "    }\n",
       "\n",
       "    .dataframe tbody tr th {\n",
       "        vertical-align: top;\n",
       "    }\n",
       "\n",
       "    .dataframe thead th {\n",
       "        text-align: right;\n",
       "    }\n",
       "</style>\n",
       "<table border=\"1\" class=\"dataframe\">\n",
       "  <thead>\n",
       "    <tr style=\"text-align: right;\">\n",
       "      <th></th>\n",
       "      <th>ID Proveedor</th>\n",
       "      <th>Razon Social Proveedor</th>\n",
       "      <th>ID Sector</th>\n",
       "      <th>Descripcion Sector</th>\n",
       "      <th>ID Seccion</th>\n",
       "      <th>Descripcion Seccion</th>\n",
       "      <th>ID Gran Familia</th>\n",
       "      <th>Descripcion Gran Familia</th>\n",
       "      <th>ID Familia</th>\n",
       "      <th>Descripcion Familia</th>\n",
       "      <th>ID Subfamilia</th>\n",
       "      <th>Descripcion Sub Familia</th>\n",
       "      <th>ID Articulo</th>\n",
       "      <th>Descripcion Articulo</th>\n",
       "      <th>ID Producto</th>\n",
       "      <th>Descripcion Producto</th>\n",
       "      <th>ID Región</th>\n",
       "      <th>Columna Faltante</th>\n",
       "    </tr>\n",
       "  </thead>\n",
       "  <tbody>\n",
       "    <tr>\n",
       "      <th>0</th>\n",
       "      <td>1</td>\n",
       "      <td>252</td>\n",
       "      <td>Reckitt Benckiser Argentina S.A.</td>\n",
       "      <td>1</td>\n",
       "      <td>Almacn</td>\n",
       "      <td>4</td>\n",
       "      <td>Limpieza</td>\n",
       "      <td>3</td>\n",
       "      <td>Ba¤o y Hogar</td>\n",
       "      <td>4</td>\n",
       "      <td>Desodorantes de ambientes</td>\n",
       "      <td>1</td>\n",
       "      <td>Desodorantes en aerosol</td>\n",
       "      <td>27003</td>\n",
       "      <td>273920</td>\n",
       "      <td>REFILL CITRICO  OIL ESCENCE AIR WICK CITRICOS ...</td>\n",
       "      <td>1</td>\n",
       "      <td>2019-07-12 11:04:07.967</td>\n",
       "    </tr>\n",
       "    <tr>\n",
       "      <th>1</th>\n",
       "      <td>1</td>\n",
       "      <td>252</td>\n",
       "      <td>Reckitt Benckiser Argentina S.A.</td>\n",
       "      <td>1</td>\n",
       "      <td>Almacn</td>\n",
       "      <td>4</td>\n",
       "      <td>Limpieza</td>\n",
       "      <td>3</td>\n",
       "      <td>Ba¤o y Hogar</td>\n",
       "      <td>4</td>\n",
       "      <td>Desodorantes de ambientes</td>\n",
       "      <td>1</td>\n",
       "      <td>Desodorantes en aerosol</td>\n",
       "      <td>27004</td>\n",
       "      <td>273921</td>\n",
       "      <td>FRESHMATIC AIRWICK LAVANDA REPUESTO 250.00 MLT</td>\n",
       "      <td>1</td>\n",
       "      <td>2019-07-12 11:04:07.967</td>\n",
       "    </tr>\n",
       "    <tr>\n",
       "      <th>2</th>\n",
       "      <td>1</td>\n",
       "      <td>252</td>\n",
       "      <td>Reckitt Benckiser Argentina S.A.</td>\n",
       "      <td>1</td>\n",
       "      <td>Almacn</td>\n",
       "      <td>4</td>\n",
       "      <td>Limpieza</td>\n",
       "      <td>3</td>\n",
       "      <td>Ba¤o y Hogar</td>\n",
       "      <td>4</td>\n",
       "      <td>Desodorantes de ambientes</td>\n",
       "      <td>1</td>\n",
       "      <td>Desodorantes en aerosol</td>\n",
       "      <td>27005</td>\n",
       "      <td>284012</td>\n",
       "      <td>AIR WICK CITRICO FULL REP.GRATIS AIR WICK AIR ...</td>\n",
       "      <td>1</td>\n",
       "      <td>2019-07-12 11:04:07.967</td>\n",
       "    </tr>\n",
       "    <tr>\n",
       "      <th>3</th>\n",
       "      <td>1</td>\n",
       "      <td>252</td>\n",
       "      <td>Reckitt Benckiser Argentina S.A.</td>\n",
       "      <td>1</td>\n",
       "      <td>Almacn</td>\n",
       "      <td>4</td>\n",
       "      <td>Limpieza</td>\n",
       "      <td>3</td>\n",
       "      <td>Ba¤o y Hogar</td>\n",
       "      <td>4</td>\n",
       "      <td>Desodorantes de ambientes</td>\n",
       "      <td>1</td>\n",
       "      <td>Desodorantes en aerosol</td>\n",
       "      <td>27012</td>\n",
       "      <td>359572</td>\n",
       "      <td>MAGNOLIA Y CHERRY AIR WICK REPUESTO 175.00 GR</td>\n",
       "      <td>1</td>\n",
       "      <td>2019-07-12 11:04:07.967</td>\n",
       "    </tr>\n",
       "    <tr>\n",
       "      <th>4</th>\n",
       "      <td>1</td>\n",
       "      <td>252</td>\n",
       "      <td>Reckitt Benckiser Argentina S.A.</td>\n",
       "      <td>1</td>\n",
       "      <td>Almacn</td>\n",
       "      <td>4</td>\n",
       "      <td>Limpieza</td>\n",
       "      <td>3</td>\n",
       "      <td>Ba¤o y Hogar</td>\n",
       "      <td>4</td>\n",
       "      <td>Desodorantes de ambientes</td>\n",
       "      <td>1</td>\n",
       "      <td>Desodorantes en aerosol</td>\n",
       "      <td>27007</td>\n",
       "      <td>415268</td>\n",
       "      <td>FRESHMATIC BOSQUE MµGICO APARATO AIR WICK LUSH...</td>\n",
       "      <td>1</td>\n",
       "      <td>2019-07-12 11:04:07.967</td>\n",
       "    </tr>\n",
       "  </tbody>\n",
       "</table>\n",
       "</div>"
      ],
      "text/plain": [
       "   ID Proveedor  Razon Social Proveedor                         ID Sector  \\\n",
       "0             1                     252  Reckitt Benckiser Argentina S.A.   \n",
       "1             1                     252  Reckitt Benckiser Argentina S.A.   \n",
       "2             1                     252  Reckitt Benckiser Argentina S.A.   \n",
       "3             1                     252  Reckitt Benckiser Argentina S.A.   \n",
       "4             1                     252  Reckitt Benckiser Argentina S.A.   \n",
       "\n",
       "   Descripcion Sector ID Seccion  Descripcion Seccion ID Gran Familia  \\\n",
       "0                   1    Almacn                    4        Limpieza   \n",
       "1                   1    Almacn                    4        Limpieza   \n",
       "2                   1    Almacn                    4        Limpieza   \n",
       "3                   1    Almacn                    4        Limpieza   \n",
       "4                   1    Almacn                    4        Limpieza   \n",
       "\n",
       "   Descripcion Gran Familia    ID Familia  Descripcion Familia  \\\n",
       "0                         3  Ba¤o y Hogar                    4   \n",
       "1                         3  Ba¤o y Hogar                    4   \n",
       "2                         3  Ba¤o y Hogar                    4   \n",
       "3                         3  Ba¤o y Hogar                    4   \n",
       "4                         3  Ba¤o y Hogar                    4   \n",
       "\n",
       "               ID Subfamilia  Descripcion Sub Familia  \\\n",
       "0  Desodorantes de ambientes                        1   \n",
       "1  Desodorantes de ambientes                        1   \n",
       "2  Desodorantes de ambientes                        1   \n",
       "3  Desodorantes de ambientes                        1   \n",
       "4  Desodorantes de ambientes                        1   \n",
       "\n",
       "               ID Articulo  Descripcion Articulo  ID Producto  \\\n",
       "0  Desodorantes en aerosol                 27003       273920   \n",
       "1  Desodorantes en aerosol                 27004       273921   \n",
       "2  Desodorantes en aerosol                 27005       284012   \n",
       "3  Desodorantes en aerosol                 27012       359572   \n",
       "4  Desodorantes en aerosol                 27007       415268   \n",
       "\n",
       "                                Descripcion Producto  ID Región  \\\n",
       "0  REFILL CITRICO  OIL ESCENCE AIR WICK CITRICOS ...          1   \n",
       "1     FRESHMATIC AIRWICK LAVANDA REPUESTO 250.00 MLT          1   \n",
       "2  AIR WICK CITRICO FULL REP.GRATIS AIR WICK AIR ...          1   \n",
       "3      MAGNOLIA Y CHERRY AIR WICK REPUESTO 175.00 GR          1   \n",
       "4  FRESHMATIC BOSQUE MµGICO APARATO AIR WICK LUSH...          1   \n",
       "\n",
       "          Columna Faltante  \n",
       "0  2019-07-12 11:04:07.967  \n",
       "1  2019-07-12 11:04:07.967  \n",
       "2  2019-07-12 11:04:07.967  \n",
       "3  2019-07-12 11:04:07.967  \n",
       "4  2019-07-12 11:04:07.967  "
      ]
     },
     "execution_count": 14,
     "metadata": {},
     "output_type": "execute_result"
    }
   ],
   "source": [
    "prov_productos.head()"
   ]
  },
  {
   "cell_type": "markdown",
   "metadata": {},
   "source": [
    "Observamos que la lectura de los datos ha sido incorrecta, ha puesto todos los datos en una única columna. Deberíamos de \n",
    "hacer una lectura de los datos y separarlos en las columnas correspondientes."
   ]
  },
  {
   "cell_type": "markdown",
   "metadata": {},
   "source": [
    "### Limpieza de datos"
   ]
  },
  {
   "cell_type": "markdown",
   "metadata": {},
   "source": []
  }
 ],
 "metadata": {
  "kernelspec": {
   "display_name": "base",
   "language": "python",
   "name": "python3"
  },
  "language_info": {
   "codemirror_mode": {
    "name": "ipython",
    "version": 3
   },
   "file_extension": ".py",
   "mimetype": "text/x-python",
   "name": "python",
   "nbconvert_exporter": "python",
   "pygments_lexer": "ipython3",
   "version": "3.11.7"
  }
 },
 "nbformat": 4,
 "nbformat_minor": 2
}
